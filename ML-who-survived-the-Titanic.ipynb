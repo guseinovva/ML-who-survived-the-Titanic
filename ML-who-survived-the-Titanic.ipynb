{
  "nbformat": 4,
  "nbformat_minor": 0,
  "metadata": {
    "colab": {
      "provenance": []
    },
    "kernelspec": {
      "name": "python3",
      "display_name": "Python 3"
    },
    "language_info": {
      "name": "python"
    }
  },
  "cells": [
    {
      "cell_type": "markdown",
      "source": [
        "1. Объясните, как вычисляется качество модели с задачей\n",
        "классификации:\n",
        "назовите основные и вторичные метрики, приведите пример.\n",
        "2. Что такое тестовый набор данных (test set) и для чего\n",
        "он нужен?\n",
        "3. В чем разница между параметром модели и\n",
        "гиперпараметром алгоритма\n",
        "обучения? Приведите примеры."
      ],
      "metadata": {
        "id": "yF1bLYH4GD2v"
      }
    },
    {
      "cell_type": "markdown",
      "source": [
        "**Задание 1**"
      ],
      "metadata": {
        "id": "9OakGkmoHhhE"
      }
    },
    {
      "cell_type": "markdown",
      "source": [
        "Качество модели классификации оценивается с помощью различных метрик, которые позволяют понять, насколько хорошо модель справляется с задачей предсказания класса для новых данных.\n",
        "\n",
        "Основные метрики:\n",
        "\n",
        "1.   Точность (Accuracy): Доля правильных предсказаний от общего количества предсказаний.\n",
        "2. Точность (Precision): Доля правильных положительных предсказаний среди всех предсказаний как положительных.\n",
        "3. Полнота (Recall): Доля правильных положительных предсказаний среди всех фактических положительных примеров.\n",
        "4. F1-мера: Гармоническое среднее точности и полноты.\n",
        "\n",
        "Вторичные метрики:\n",
        "\n",
        "1. ROC-кривая (Receiver Operating Characteristic): График, показывающий соотношение между истинно-положительными и ложно-положительными предсказаниями при изменении порога классификации.\n",
        "2. AUC (Area Under the Curve): Площадь под кривой ROC. Чем больше AUC, тем лучше модель.\n",
        "3. Матрица ошибок (Confusion Matrix): Таблица, показывающая количество правильных и неправильных предсказаний для каждого класса.\n",
        "4. Средневзвешенная точность (Weighted Average Precision): Средняя точность модели по всем классам, с учетом количества примеров в каждом классе.\n",
        "\n",
        "Выбор метрики для оценки качества модели зависит от конкретной задачи классификации. Например, в задачах медицинской диагностики, где важно найти все положительные случаи (например, раковые заболевания), полнота будет более важной метрикой, чем точность."
      ],
      "metadata": {
        "id": "MW5MpIGNHT1B"
      }
    },
    {
      "cell_type": "code",
      "execution_count": null,
      "metadata": {
        "colab": {
          "base_uri": "https://localhost:8080/"
        },
        "collapsed": true,
        "id": "yRxqvgahF7I_",
        "outputId": "ab4adaa7-2af7-4627-9b88-1ac7ce94bee9"
      },
      "outputs": [
        {
          "output_type": "stream",
          "name": "stdout",
          "text": [
            "Requirement already satisfied: pandas in /usr/local/lib/python3.10/dist-packages (2.2.2)\n",
            "Requirement already satisfied: scikit-learn in /usr/local/lib/python3.10/dist-packages (1.5.2)\n",
            "Requirement already satisfied: seaborn in /usr/local/lib/python3.10/dist-packages (0.13.2)\n",
            "Requirement already satisfied: matplotlib in /usr/local/lib/python3.10/dist-packages (3.7.1)\n",
            "Requirement already satisfied: numpy>=1.22.4 in /usr/local/lib/python3.10/dist-packages (from pandas) (1.26.4)\n",
            "Requirement already satisfied: python-dateutil>=2.8.2 in /usr/local/lib/python3.10/dist-packages (from pandas) (2.8.2)\n",
            "Requirement already satisfied: pytz>=2020.1 in /usr/local/lib/python3.10/dist-packages (from pandas) (2024.2)\n",
            "Requirement already satisfied: tzdata>=2022.7 in /usr/local/lib/python3.10/dist-packages (from pandas) (2024.2)\n",
            "Requirement already satisfied: scipy>=1.6.0 in /usr/local/lib/python3.10/dist-packages (from scikit-learn) (1.13.1)\n",
            "Requirement already satisfied: joblib>=1.2.0 in /usr/local/lib/python3.10/dist-packages (from scikit-learn) (1.4.2)\n",
            "Requirement already satisfied: threadpoolctl>=3.1.0 in /usr/local/lib/python3.10/dist-packages (from scikit-learn) (3.5.0)\n",
            "Requirement already satisfied: contourpy>=1.0.1 in /usr/local/lib/python3.10/dist-packages (from matplotlib) (1.3.0)\n",
            "Requirement already satisfied: cycler>=0.10 in /usr/local/lib/python3.10/dist-packages (from matplotlib) (0.12.1)\n",
            "Requirement already satisfied: fonttools>=4.22.0 in /usr/local/lib/python3.10/dist-packages (from matplotlib) (4.54.1)\n",
            "Requirement already satisfied: kiwisolver>=1.0.1 in /usr/local/lib/python3.10/dist-packages (from matplotlib) (1.4.7)\n",
            "Requirement already satisfied: packaging>=20.0 in /usr/local/lib/python3.10/dist-packages (from matplotlib) (24.1)\n",
            "Requirement already satisfied: pillow>=6.2.0 in /usr/local/lib/python3.10/dist-packages (from matplotlib) (10.4.0)\n",
            "Requirement already satisfied: pyparsing>=2.3.1 in /usr/local/lib/python3.10/dist-packages (from matplotlib) (3.2.0)\n",
            "Requirement already satisfied: six>=1.5 in /usr/local/lib/python3.10/dist-packages (from python-dateutil>=2.8.2->pandas) (1.16.0)\n"
          ]
        }
      ],
      "source": [
        "!pip install pandas scikit-learn seaborn matplotlib"
      ]
    },
    {
      "cell_type": "code",
      "source": [
        "import pandas as pd\n",
        "import numpy as np\n",
        "import seaborn as sns\n",
        "import matplotlib.pyplot as plt\n",
        "from sklearn.model_selection import train_test_split\n",
        "from sklearn.ensemble import RandomForestClassifier\n",
        "from sklearn.metrics import classification_report, confusion_matrix"
      ],
      "metadata": {
        "id": "QEvlwtohGKIT"
      },
      "execution_count": null,
      "outputs": []
    },
    {
      "cell_type": "code",
      "source": [
        "url = 'https://raw.githubusercontent.com/datasciencedojo/datasets/master/titanic.csv'\n",
        "data = pd.read_csv(url)"
      ],
      "metadata": {
        "id": "DRRsu918GMoO"
      },
      "execution_count": null,
      "outputs": []
    },
    {
      "cell_type": "code",
      "source": [
        "print(data.head())"
      ],
      "metadata": {
        "colab": {
          "base_uri": "https://localhost:8080/"
        },
        "id": "dopp4NPsGOx_",
        "outputId": "16dd811c-0e88-4e30-e4ed-7fdba511343e"
      },
      "execution_count": null,
      "outputs": [
        {
          "output_type": "stream",
          "name": "stdout",
          "text": [
            "   PassengerId  Survived  Pclass  \\\n",
            "0            1         0       3   \n",
            "1            2         1       1   \n",
            "2            3         1       3   \n",
            "3            4         1       1   \n",
            "4            5         0       3   \n",
            "\n",
            "                                                Name     Sex   Age  SibSp  \\\n",
            "0                            Braund, Mr. Owen Harris    male  22.0      1   \n",
            "1  Cumings, Mrs. John Bradley (Florence Briggs Th...  female  38.0      1   \n",
            "2                             Heikkinen, Miss. Laina  female  26.0      0   \n",
            "3       Futrelle, Mrs. Jacques Heath (Lily May Peel)  female  35.0      1   \n",
            "4                           Allen, Mr. William Henry    male  35.0      0   \n",
            "\n",
            "   Parch            Ticket     Fare Cabin Embarked  \n",
            "0      0         A/5 21171   7.2500   NaN        S  \n",
            "1      0          PC 17599  71.2833   C85        C  \n",
            "2      0  STON/O2. 3101282   7.9250   NaN        S  \n",
            "3      0            113803  53.1000  C123        S  \n",
            "4      0            373450   8.0500   NaN        S  \n"
          ]
        }
      ]
    },
    {
      "cell_type": "markdown",
      "source": [
        "Предобработка данных, удаляем ненужные столбцы, обрабатываем пропуски."
      ],
      "metadata": {
        "id": "DqeaVrvGGWeL"
      }
    },
    {
      "cell_type": "code",
      "source": [
        "data.drop(['PassengerId', 'Name', 'Ticket', 'Cabin'], axis=1, inplace=True)\n",
        "data['Age'].fillna(data['Age'].median(), inplace=True)  # Заполнение пропусков в возрасте медианой\n",
        "data['Embarked'].fillna(data['Embarked'].mode()[0], inplace=True)  # Заполнение пропусков в порту отправления модой"
      ],
      "metadata": {
        "colab": {
          "base_uri": "https://localhost:8080/"
        },
        "id": "ZfiU_xbfGUW-",
        "outputId": "6908467a-a9f3-497a-c021-51f5da30391b"
      },
      "execution_count": null,
      "outputs": [
        {
          "output_type": "stream",
          "name": "stderr",
          "text": [
            "<ipython-input-13-7cf354066f6c>:2: FutureWarning: A value is trying to be set on a copy of a DataFrame or Series through chained assignment using an inplace method.\n",
            "The behavior will change in pandas 3.0. This inplace method will never work because the intermediate object on which we are setting values always behaves as a copy.\n",
            "\n",
            "For example, when doing 'df[col].method(value, inplace=True)', try using 'df.method({col: value}, inplace=True)' or df[col] = df[col].method(value) instead, to perform the operation inplace on the original object.\n",
            "\n",
            "\n",
            "  data['Age'].fillna(data['Age'].median(), inplace=True)  # Заполнение пропусков в возрасте медианой\n",
            "<ipython-input-13-7cf354066f6c>:3: FutureWarning: A value is trying to be set on a copy of a DataFrame or Series through chained assignment using an inplace method.\n",
            "The behavior will change in pandas 3.0. This inplace method will never work because the intermediate object on which we are setting values always behaves as a copy.\n",
            "\n",
            "For example, when doing 'df[col].method(value, inplace=True)', try using 'df.method({col: value}, inplace=True)' or df[col] = df[col].method(value) instead, to perform the operation inplace on the original object.\n",
            "\n",
            "\n",
            "  data['Embarked'].fillna(data['Embarked'].mode()[0], inplace=True)  # Заполнение пропусков в порту отправления модой\n"
          ]
        }
      ]
    },
    {
      "cell_type": "code",
      "source": [
        "data = pd.get_dummies(data, columns=['Sex', 'Embarked'], drop_first=True)"
      ],
      "metadata": {
        "id": "ofOjdKd5GuXX"
      },
      "execution_count": null,
      "outputs": []
    },
    {
      "cell_type": "markdown",
      "source": [
        "**Задание 2**"
      ],
      "metadata": {
        "id": "gkr6aCHNH6GQ"
      }
    },
    {
      "cell_type": "markdown",
      "source": [
        "Тестовый набор данных - это часть данных, которая не использовалась при обучении модели. Он нужен для оценки качества обученной модели на неизвестных данных.\n",
        "\n",
        "Цель тестового набора:\n",
        "\n",
        "1. Измерить обобщающую способность модели:  Модель должна не просто запоминать данные из обучающего набора, но и уметь предсказывать на новых данных\n",
        "2. Тестовый набор позволяет оценить, насколько хорошо модель справляется с этой задачей.\n",
        "3. Проверить модель на переобучение:  Если модель слишком хорошо работает на обучающем наборе, но плохо на тестовом, это говорит о переобучении.  Модель запомнила шум и особенности обучающего набора, но не усвоила общие закономерности.\n",
        "4. Сравнение моделей:  Тестовый набор позволяет сравнить разные модели и выбрать лучшую."
      ],
      "metadata": {
        "id": "sjMTdMutH7ei"
      }
    },
    {
      "cell_type": "markdown",
      "source": [
        "Разделяем данные на признаки и целевую переменную, также на обучающую и тестовую выборки"
      ],
      "metadata": {
        "id": "JqO53z0dIe8F"
      }
    },
    {
      "cell_type": "code",
      "source": [
        "X = data.drop('Survived', axis=1)\n",
        "y = data['Survived']\n",
        "\n",
        "X_train, X_test, y_train, y_test = train_test_split(X, y, test_size=0.2, random_state=42)"
      ],
      "metadata": {
        "id": "lSnf5Qa1Gwam"
      },
      "execution_count": null,
      "outputs": []
    },
    {
      "cell_type": "markdown",
      "source": [
        "**Задание 3**\n",
        "\n",
        "Параметры модели - это значения, которые модель  обучает на основе данных. Они определяют внутреннее состояние модели и используются для  предсказания на новых данных.\n",
        "\n",
        "Гиперпараметры алгоритма обучения - это значения, которые задаются вручную перед обучением модели. Они контролируют процесс обучения и влияют на то, как модель учится.\n",
        "\n",
        "Пример:\n",
        "\n",
        "Линейная регрессия:\n",
        "\n",
        "1. Параметры модели:  Коэффициенты (weights) и свободный член (bias) уравнения регрессии. Модель учится на данных, чтобы найти наилучшие значения этих параметров, которые минимизируют ошибку предсказания.\n",
        "2. Гиперпараметры:  Скорость обучения (learning rate), которая определяет, насколько быстро модель изменяет параметры при обучении. Другим гиперпараметром может быть количество итераций (epochs), то есть сколько раз модель проходит по всем данным.\n",
        "\n",
        "Пример:\n",
        "\n",
        "Нейронная сеть:\n",
        "\n",
        "1. Параметры модели:  Веса (weights) и смещения (biases) в нейронной сети. Модель обучается на данных, чтобы найти наилучшие значения этих параметров, которые минимизируют ошибку предсказания.\n",
        "2. Гиперпараметры: Архитектура сети (количество слоев, количество нейронов в каждом слое), функция активации, функция потерь, оптимизатор (например, SGD, Adam). Эти параметры задаются заранее и влияют на процесс обучения.\n",
        "\n"
      ],
      "metadata": {
        "id": "5yXFe4oKIxe2"
      }
    },
    {
      "cell_type": "code",
      "source": [
        "# Создание и обучение модели\n",
        "model = RandomForestClassifier(n_estimators=100, random_state=42)\n",
        "model.fit(X_train, y_train)\n",
        "\n",
        "# Прогнозирование на тестовой выборке\n",
        "y_pred = model.predict(X_test)"
      ],
      "metadata": {
        "id": "lnl0LcJrGyqE"
      },
      "execution_count": null,
      "outputs": []
    },
    {
      "cell_type": "code",
      "source": [
        "# Оценка модели\n",
        "print(confusion_matrix(y_test, y_pred))\n",
        "print(classification_report(y_test, y_pred))"
      ],
      "metadata": {
        "colab": {
          "base_uri": "https://localhost:8080/"
        },
        "id": "e9DC_fI7G0jK",
        "outputId": "1e55ad04-8f52-4dc2-9e26-240e8ba2b251"
      },
      "execution_count": null,
      "outputs": [
        {
          "output_type": "stream",
          "name": "stdout",
          "text": [
            "[[91 14]\n",
            " [18 56]]\n",
            "              precision    recall  f1-score   support\n",
            "\n",
            "           0       0.83      0.87      0.85       105\n",
            "           1       0.80      0.76      0.78        74\n",
            "\n",
            "    accuracy                           0.82       179\n",
            "   macro avg       0.82      0.81      0.81       179\n",
            "weighted avg       0.82      0.82      0.82       179\n",
            "\n"
          ]
        }
      ]
    },
    {
      "cell_type": "code",
      "source": [
        "# Визуализация важности признаков\n",
        "feature_importances = model.feature_importances_\n",
        "features = X.columns\n",
        "\n",
        "plt.figure(figsize=(10, 6))\n",
        "sns.barplot(x=feature_importances, y=features)\n",
        "plt.title('Feature Importances')\n",
        "plt.show()"
      ],
      "metadata": {
        "colab": {
          "base_uri": "https://localhost:8080/",
          "height": 545
        },
        "id": "92D8eFUAG2uf",
        "outputId": "656ba1c4-b9a2-4105-a780-eb0e7d830cd2"
      },
      "execution_count": null,
      "outputs": [
        {
          "output_type": "display_data",
          "data": {
            "text/plain": [
              "<Figure size 1000x600 with 1 Axes>"
            ],
            "image/png": "[encoded data removed]"
          },
          "metadata": {}
        }
      ]
    }
  ]
}